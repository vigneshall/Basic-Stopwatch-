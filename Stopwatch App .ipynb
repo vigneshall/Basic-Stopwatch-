{
 "cells": [
  {
   "cell_type": "code",
   "execution_count": null,
   "id": "ae604dc3-bd34-4aa2-99bc-3e2d32df484d",
   "metadata": {},
   "outputs": [],
   "source": [
    "import tkinter as tk\n",
    "\n",
    "class Stopwatch:\n",
    "    def __init__(self, root):\n",
    "        self.root = root\n",
    "        self.root.title(\"Stopwatch\")\n",
    "        self.root.geometry(\"300x200\")\n",
    "        self.root.configure(bg=\"#1e1e1e\")\n",
    "\n",
    "        self.counter = 0\n",
    "        self.running = False\n",
    "\n",
    "        self.label = tk.Label(root, text=\"00:00:00\", font=(\"Helvetica\", 40), fg=\"#00ffcc\", bg=\"#1e1e1e\")\n",
    "        self.label.pack(pady=20)\n",
    "\n",
    "        btn_frame = tk.Frame(root, bg=\"#1e1e1e\")\n",
    "        btn_frame.pack()\n",
    "\n",
    "        self.start_btn = tk.Button(btn_frame, text=\"Start\", command=self.start, width=8)\n",
    "        self.start_btn.grid(row=0, column=0, padx=5)\n",
    "\n",
    "        self.stop_btn = tk.Button(btn_frame, text=\"Stop\", command=self.stop, width=8)\n",
    "        self.stop_btn.grid(row=0, column=1, padx=5)\n",
    "\n",
    "        self.reset_btn = tk.Button(btn_frame, text=\"Reset\", command=self.reset, width=8)\n",
    "        self.reset_btn.grid(row=0, column=2, padx=5)\n",
    "\n",
    "    def update(self):\n",
    "        if self.running:\n",
    "            self.counter += 1\n",
    "            minutes, seconds = divmod(self.counter, 60)\n",
    "            hours, minutes = divmod(minutes, 60)\n",
    "            time_str = f\"{hours:02d}:{minutes:02d}:{seconds:02d}\"\n",
    "            self.label.config(text=time_str)\n",
    "            self.root.after(1000, self.update)\n",
    "\n",
    "    def start(self):\n",
    "        if not self.running:\n",
    "            self.running = True\n",
    "            self.update()\n",
    "\n",
    "    def stop(self):\n",
    "        self.running = False\n",
    "\n",
    "    def reset(self):\n",
    "        self.running = False\n",
    "        self.counter = 0\n",
    "        self.label.config(text=\"00:00:00\")\n",
    "\n",
    "# Run the App\n",
    "if __name__ == \"__main__\":\n",
    "    root = tk.Tk()\n",
    "    app = Stopwatch(root)\n",
    "    root.mainloop()\n"
   ]
  },
  {
   "cell_type": "code",
   "execution_count": null,
   "id": "8f7795c7-4b0a-44bf-8d8c-7fa4ede892c9",
   "metadata": {},
   "outputs": [],
   "source": []
  }
 ],
 "metadata": {
  "kernelspec": {
   "display_name": "Python [conda env:base] *",
   "language": "python",
   "name": "conda-base-py"
  },
  "language_info": {
   "codemirror_mode": {
    "name": "ipython",
    "version": 3
   },
   "file_extension": ".py",
   "mimetype": "text/x-python",
   "name": "python",
   "nbconvert_exporter": "python",
   "pygments_lexer": "ipython3",
   "version": "3.12.7"
  }
 },
 "nbformat": 4,
 "nbformat_minor": 5
}
